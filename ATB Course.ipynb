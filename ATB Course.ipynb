{
 "cells": [
  {
   "cell_type": "code",
   "execution_count": 27,
   "metadata": {},
   "outputs": [],
   "source": [
    "import pandas as pd\n",
    "import XCCourseHelper as XC\n",
    "import os\n",
    "import matplotlib.pyplot as plt\n",
    "import GradeAdjustedPace"
   ]
  },
  {
   "cell_type": "code",
   "execution_count": 2,
   "metadata": {},
   "outputs": [
    {
     "name": "stdout",
     "output_type": "stream",
     "text": [
      "strava__2346911231.gpx\n"
     ]
    }
   ],
   "source": [
    "directory = \"Courses/ATB\"\n",
    "dfs = []\n",
    "CourseInformationList = []\n",
    "\n",
    "for file in os.listdir(directory):\n",
    "    filename = os.fsdecode(file)\n",
    "    print(filename)\n",
    "    if filename.endswith(\".gpx\"):\n",
    "        FilePath = os.path.join(directory, filename)\n",
    "        # checking if it is a file\n",
    "        if os.path.isfile(FilePath):\n",
    "            CourseName = filename[0:-4]\n",
    "            CourseInformation, df = XC.GetCourseInformation(CourseName, FilePath)\n",
    "            CourseInformationList.append(CourseInformation)\n",
    "            dfs.append(df)\n",
    "\n",
    "CourseInformationDF = pd.concat(CourseInformationList, ignore_index=True)"
   ]
  },
  {
   "cell_type": "code",
   "execution_count": 3,
   "metadata": {},
   "outputs": [],
   "source": [
    "course = 'ATB'\n",
    "gpx_file='./Courses/ATB/strava__2346911231.gpx'\n",
    "df, turn_st_dev, tot_deg_turned, HairpinCount, perim, area = XC.MakeInitialDataframe(\n",
    "        course, gpx_file\n",
    "    )"
   ]
  },
  {
   "cell_type": "code",
   "execution_count": 4,
   "metadata": {},
   "outputs": [
    {
     "data": {
      "text/html": [
       "<div>\n",
       "<style scoped>\n",
       "    .dataframe tbody tr th:only-of-type {\n",
       "        vertical-align: middle;\n",
       "    }\n",
       "\n",
       "    .dataframe tbody tr th {\n",
       "        vertical-align: top;\n",
       "    }\n",
       "\n",
       "    .dataframe thead th {\n",
       "        text-align: right;\n",
       "    }\n",
       "</style>\n",
       "<table border=\"1\" class=\"dataframe\">\n",
       "  <thead>\n",
       "    <tr style=\"text-align: right;\">\n",
       "      <th></th>\n",
       "      <th>time</th>\n",
       "      <th>Lat</th>\n",
       "      <th>Lon</th>\n",
       "      <th>Elevation</th>\n",
       "      <th>Elevation SavGol</th>\n",
       "      <th>Elevation SavGol Difference</th>\n",
       "      <th>Elevation Difference</th>\n",
       "      <th>Time Difference</th>\n",
       "      <th>DistanceChangeInKM</th>\n",
       "      <th>Angle Difference</th>\n",
       "    </tr>\n",
       "    <tr>\n",
       "      <th>Distance</th>\n",
       "      <th></th>\n",
       "      <th></th>\n",
       "      <th></th>\n",
       "      <th></th>\n",
       "      <th></th>\n",
       "      <th></th>\n",
       "      <th></th>\n",
       "      <th></th>\n",
       "      <th></th>\n",
       "      <th></th>\n",
       "    </tr>\n",
       "  </thead>\n",
       "  <tbody>\n",
       "    <tr>\n",
       "      <th>0.187886</th>\n",
       "      <td>1970-01-01 00:00:00+00:00</td>\n",
       "      <td>43.260037</td>\n",
       "      <td>-79.872996</td>\n",
       "      <td>97.9</td>\n",
       "      <td>97.903306</td>\n",
       "      <td>NaN</td>\n",
       "      <td>0.0</td>\n",
       "      <td>0.0</td>\n",
       "      <td>NaN</td>\n",
       "      <td>NaN</td>\n",
       "    </tr>\n",
       "    <tr>\n",
       "      <th>0.190023</th>\n",
       "      <td>1970-01-01 00:00:01+00:00</td>\n",
       "      <td>43.260031</td>\n",
       "      <td>-79.872971</td>\n",
       "      <td>97.9</td>\n",
       "      <td>97.889292</td>\n",
       "      <td>-0.014013</td>\n",
       "      <td>0.0</td>\n",
       "      <td>1.0</td>\n",
       "      <td>0.002137</td>\n",
       "      <td>NaN</td>\n",
       "    </tr>\n",
       "    <tr>\n",
       "      <th>0.192083</th>\n",
       "      <td>1970-01-01 00:00:02+00:00</td>\n",
       "      <td>43.260025</td>\n",
       "      <td>-79.872947</td>\n",
       "      <td>97.9</td>\n",
       "      <td>97.874238</td>\n",
       "      <td>-0.015054</td>\n",
       "      <td>0.0</td>\n",
       "      <td>1.0</td>\n",
       "      <td>0.002060</td>\n",
       "      <td>NaN</td>\n",
       "    </tr>\n",
       "    <tr>\n",
       "      <th>0.196976</th>\n",
       "      <td>1970-01-01 00:00:03+00:00</td>\n",
       "      <td>43.260007</td>\n",
       "      <td>-79.872892</td>\n",
       "      <td>97.8</td>\n",
       "      <td>97.858154</td>\n",
       "      <td>-0.016084</td>\n",
       "      <td>0.1</td>\n",
       "      <td>1.0</td>\n",
       "      <td>0.004893</td>\n",
       "      <td>NaN</td>\n",
       "    </tr>\n",
       "    <tr>\n",
       "      <th>0.204683</th>\n",
       "      <td>1970-01-01 00:00:04+00:00</td>\n",
       "      <td>43.259981</td>\n",
       "      <td>-79.872804</td>\n",
       "      <td>97.8</td>\n",
       "      <td>97.841052</td>\n",
       "      <td>-0.017102</td>\n",
       "      <td>0.0</td>\n",
       "      <td>1.0</td>\n",
       "      <td>0.007707</td>\n",
       "      <td>NaN</td>\n",
       "    </tr>\n",
       "  </tbody>\n",
       "</table>\n",
       "</div>"
      ],
      "text/plain": [
       "                              time        Lat        Lon  Elevation  \\\n",
       "Distance                                                              \n",
       "0.187886 1970-01-01 00:00:00+00:00  43.260037 -79.872996       97.9   \n",
       "0.190023 1970-01-01 00:00:01+00:00  43.260031 -79.872971       97.9   \n",
       "0.192083 1970-01-01 00:00:02+00:00  43.260025 -79.872947       97.9   \n",
       "0.196976 1970-01-01 00:00:03+00:00  43.260007 -79.872892       97.8   \n",
       "0.204683 1970-01-01 00:00:04+00:00  43.259981 -79.872804       97.8   \n",
       "\n",
       "          Elevation SavGol  Elevation SavGol Difference  Elevation Difference  \\\n",
       "Distance                                                                        \n",
       "0.187886         97.903306                          NaN                   0.0   \n",
       "0.190023         97.889292                    -0.014013                   0.0   \n",
       "0.192083         97.874238                    -0.015054                   0.0   \n",
       "0.196976         97.858154                    -0.016084                   0.1   \n",
       "0.204683         97.841052                    -0.017102                   0.0   \n",
       "\n",
       "          Time Difference  DistanceChangeInKM  Angle Difference  \n",
       "Distance                                                         \n",
       "0.187886              0.0                 NaN               NaN  \n",
       "0.190023              1.0            0.002137               NaN  \n",
       "0.192083              1.0            0.002060               NaN  \n",
       "0.196976              1.0            0.004893               NaN  \n",
       "0.204683              1.0            0.007707               NaN  "
      ]
     },
     "execution_count": 4,
     "metadata": {},
     "output_type": "execute_result"
    }
   ],
   "source": [
    "df.head()"
   ]
  },
  {
   "cell_type": "code",
   "execution_count": 5,
   "metadata": {},
   "outputs": [],
   "source": [
    "import copy\n",
    "import numpy as np\n",
    "from scipy.signal import savgol_filter\n",
    "pace_hist = ((df[\"Time Difference\"] / 60) / df[\"DistanceChangeInKM\"]).values\n",
    "df[\"PaceInMinPerKM\"] = pace_hist\n",
    "\n",
    "# # remove spikes (if a value is more than spike_tolerace times larger than the mean of the surrounding values)\n",
    "# spike_tolerance = 1.3\n",
    "# pace_hist_nospikes = copy.copy(pace_hist)\n",
    "# for i in range(len(pace_hist_nospikes)):\n",
    "#     if i > 1 and i < (len(pace_hist_nospikes) - 2):\n",
    "#         if pace_hist_nospikes[i] > spike_tolerance * np.mean(\n",
    "#             [\n",
    "#                 pace_hist_nospikes[i - 2],\n",
    "#                 pace_hist_nospikes[i - 1],\n",
    "#                 pace_hist_nospikes[i + 1],\n",
    "#                 pace_hist_nospikes[i + 2],\n",
    "#             ]\n",
    "#         ):\n",
    "#             pace_hist_nospikes[i] = np.mean(\n",
    "#                 [pace_hist_nospikes[i - 2], pace_hist_nospikes[i + 2]]\n",
    "#             )\n",
    "\n",
    "# # running average of pace (without spikes), N is width of average\n",
    "# N = 23  # N must be 2n+1\n",
    "# pace_hist_binned = np.convolve(pace_hist_nospikes, np.ones((N,)) / N, mode=\"valid\")\n",
    "\n",
    "# Maximum df['PaceInMinPerKM'] is 5.0\n",
    "df['PaceInMinPerKM'] = df['PaceInMinPerKM'].apply(lambda x: x if x < 4.2 else 4.2)\n",
    "df[\"PaceInMinPerKM\"] = savgol_filter(df[\"PaceInMinPerKM\"], 101, 3)"
   ]
  },
  {
   "cell_type": "code",
   "execution_count": 6,
   "metadata": {},
   "outputs": [
    {
     "name": "stdout",
     "output_type": "stream",
     "text": [
      "3.17034728021498\n"
     ]
    },
    {
     "data": {
      "image/png": "[encoded data removed]",
      "text/plain": [
       "<Figure size 1440x360 with 1 Axes>"
      ]
     },
     "metadata": {
      "needs_background": "light"
     },
     "output_type": "display_data"
    }
   ],
   "source": [
    "df['PaceInMinPerKM'].plot(figsize=(20,5))\n",
    "print(df['PaceInMinPerKM'].mean())\n",
    "# # Add Pace\n",
    "# df[\"pace\"] = np.nan\n",
    "# df[\"pace\"].iloc[int((N - 1) / 2) : -int((N - 1) / 2)] = pace_hist_binned\n",
    "\n",
    "# # drop outlier in pace (sometimes watch seems to be stopped early or late)\n",
    "# df = df.dropna()[(np.abs(stats.zscore(df.dropna()[\"pace\"])) < 3)]"
   ]
  },
  {
   "cell_type": "code",
   "execution_count": 7,
   "metadata": {},
   "outputs": [
    {
     "data": {
      "text/plain": [
       "10.200000000000001"
      ]
     },
     "execution_count": 7,
     "metadata": {},
     "output_type": "execute_result"
    }
   ],
   "source": [
    "0.17*60"
   ]
  },
  {
   "cell_type": "code",
   "execution_count": 8,
   "metadata": {},
   "outputs": [
    {
     "data": {
      "text/html": [
       "<div>\n",
       "<style scoped>\n",
       "    .dataframe tbody tr th:only-of-type {\n",
       "        vertical-align: middle;\n",
       "    }\n",
       "\n",
       "    .dataframe tbody tr th {\n",
       "        vertical-align: top;\n",
       "    }\n",
       "\n",
       "    .dataframe thead th {\n",
       "        text-align: right;\n",
       "    }\n",
       "</style>\n",
       "<table border=\"1\" class=\"dataframe\">\n",
       "  <thead>\n",
       "    <tr style=\"text-align: right;\">\n",
       "      <th></th>\n",
       "      <th>time</th>\n",
       "      <th>Lat</th>\n",
       "      <th>Lon</th>\n",
       "      <th>Elevation</th>\n",
       "      <th>Elevation SavGol</th>\n",
       "      <th>Elevation SavGol Difference</th>\n",
       "      <th>Elevation Difference</th>\n",
       "      <th>Time Difference</th>\n",
       "      <th>DistanceChangeInKM</th>\n",
       "      <th>Angle Difference</th>\n",
       "      <th>PaceInMinPerKM</th>\n",
       "    </tr>\n",
       "    <tr>\n",
       "      <th>Distance</th>\n",
       "      <th></th>\n",
       "      <th></th>\n",
       "      <th></th>\n",
       "      <th></th>\n",
       "      <th></th>\n",
       "      <th></th>\n",
       "      <th></th>\n",
       "      <th></th>\n",
       "      <th></th>\n",
       "      <th></th>\n",
       "      <th></th>\n",
       "    </tr>\n",
       "  </thead>\n",
       "  <tbody>\n",
       "    <tr>\n",
       "      <th>0.187886</th>\n",
       "      <td>1970-01-01 00:00:00+00:00</td>\n",
       "      <td>43.260037</td>\n",
       "      <td>-79.872996</td>\n",
       "      <td>97.9</td>\n",
       "      <td>97.903306</td>\n",
       "      <td>NaN</td>\n",
       "      <td>0.0</td>\n",
       "      <td>0.0</td>\n",
       "      <td>NaN</td>\n",
       "      <td>NaN</td>\n",
       "      <td>3.483506</td>\n",
       "    </tr>\n",
       "    <tr>\n",
       "      <th>0.190023</th>\n",
       "      <td>1970-01-01 00:00:01+00:00</td>\n",
       "      <td>43.260031</td>\n",
       "      <td>-79.872971</td>\n",
       "      <td>97.9</td>\n",
       "      <td>97.889292</td>\n",
       "      <td>-0.014013</td>\n",
       "      <td>0.0</td>\n",
       "      <td>1.0</td>\n",
       "      <td>0.002137</td>\n",
       "      <td>NaN</td>\n",
       "      <td>3.450015</td>\n",
       "    </tr>\n",
       "    <tr>\n",
       "      <th>0.192083</th>\n",
       "      <td>1970-01-01 00:00:02+00:00</td>\n",
       "      <td>43.260025</td>\n",
       "      <td>-79.872947</td>\n",
       "      <td>97.9</td>\n",
       "      <td>97.874238</td>\n",
       "      <td>-0.015054</td>\n",
       "      <td>0.0</td>\n",
       "      <td>1.0</td>\n",
       "      <td>0.002060</td>\n",
       "      <td>NaN</td>\n",
       "      <td>3.417905</td>\n",
       "    </tr>\n",
       "    <tr>\n",
       "      <th>0.196976</th>\n",
       "      <td>1970-01-01 00:00:03+00:00</td>\n",
       "      <td>43.260007</td>\n",
       "      <td>-79.872892</td>\n",
       "      <td>97.8</td>\n",
       "      <td>97.858154</td>\n",
       "      <td>-0.016084</td>\n",
       "      <td>0.1</td>\n",
       "      <td>1.0</td>\n",
       "      <td>0.004893</td>\n",
       "      <td>NaN</td>\n",
       "      <td>3.387152</td>\n",
       "    </tr>\n",
       "    <tr>\n",
       "      <th>0.204683</th>\n",
       "      <td>1970-01-01 00:00:04+00:00</td>\n",
       "      <td>43.259981</td>\n",
       "      <td>-79.872804</td>\n",
       "      <td>97.8</td>\n",
       "      <td>97.841052</td>\n",
       "      <td>-0.017102</td>\n",
       "      <td>0.0</td>\n",
       "      <td>1.0</td>\n",
       "      <td>0.007707</td>\n",
       "      <td>NaN</td>\n",
       "      <td>3.357733</td>\n",
       "    </tr>\n",
       "    <tr>\n",
       "      <th>...</th>\n",
       "      <td>...</td>\n",
       "      <td>...</td>\n",
       "      <td>...</td>\n",
       "      <td>...</td>\n",
       "      <td>...</td>\n",
       "      <td>...</td>\n",
       "      <td>...</td>\n",
       "      <td>...</td>\n",
       "      <td>...</td>\n",
       "      <td>...</td>\n",
       "      <td>...</td>\n",
       "    </tr>\n",
       "    <tr>\n",
       "      <th>30.390237</th>\n",
       "      <td>1970-01-01 01:34:59+00:00</td>\n",
       "      <td>43.259028</td>\n",
       "      <td>-79.871139</td>\n",
       "      <td>97.3</td>\n",
       "      <td>96.798501</td>\n",
       "      <td>-0.119383</td>\n",
       "      <td>0.0</td>\n",
       "      <td>1.0</td>\n",
       "      <td>0.000000</td>\n",
       "      <td>0.0</td>\n",
       "      <td>4.110592</td>\n",
       "    </tr>\n",
       "    <tr>\n",
       "      <th>30.390237</th>\n",
       "      <td>1970-01-01 01:35:00+00:00</td>\n",
       "      <td>43.259028</td>\n",
       "      <td>-79.871139</td>\n",
       "      <td>97.3</td>\n",
       "      <td>96.673321</td>\n",
       "      <td>-0.125181</td>\n",
       "      <td>0.0</td>\n",
       "      <td>1.0</td>\n",
       "      <td>0.000000</td>\n",
       "      <td>0.0</td>\n",
       "      <td>4.156599</td>\n",
       "    </tr>\n",
       "    <tr>\n",
       "      <th>30.390237</th>\n",
       "      <td>1970-01-01 01:35:01+00:00</td>\n",
       "      <td>43.259028</td>\n",
       "      <td>-79.871139</td>\n",
       "      <td>97.3</td>\n",
       "      <td>96.542271</td>\n",
       "      <td>-0.131050</td>\n",
       "      <td>0.0</td>\n",
       "      <td>1.0</td>\n",
       "      <td>0.000000</td>\n",
       "      <td>0.0</td>\n",
       "      <td>4.203835</td>\n",
       "    </tr>\n",
       "    <tr>\n",
       "      <th>30.390237</th>\n",
       "      <td>1970-01-01 01:35:02+00:00</td>\n",
       "      <td>43.259028</td>\n",
       "      <td>-79.871139</td>\n",
       "      <td>97.3</td>\n",
       "      <td>96.405281</td>\n",
       "      <td>-0.136990</td>\n",
       "      <td>0.0</td>\n",
       "      <td>1.0</td>\n",
       "      <td>0.000000</td>\n",
       "      <td>0.0</td>\n",
       "      <td>4.252314</td>\n",
       "    </tr>\n",
       "    <tr>\n",
       "      <th>30.390237</th>\n",
       "      <td>1970-01-01 01:35:03+00:00</td>\n",
       "      <td>43.259028</td>\n",
       "      <td>-79.871139</td>\n",
       "      <td>97.3</td>\n",
       "      <td>96.262280</td>\n",
       "      <td>-0.143001</td>\n",
       "      <td>0.0</td>\n",
       "      <td>1.0</td>\n",
       "      <td>0.000000</td>\n",
       "      <td>NaN</td>\n",
       "      <td>4.302051</td>\n",
       "    </tr>\n",
       "  </tbody>\n",
       "</table>\n",
       "<p>5702 rows × 11 columns</p>\n",
       "</div>"
      ],
      "text/plain": [
       "                               time        Lat        Lon  Elevation  \\\n",
       "Distance                                                               \n",
       "0.187886  1970-01-01 00:00:00+00:00  43.260037 -79.872996       97.9   \n",
       "0.190023  1970-01-01 00:00:01+00:00  43.260031 -79.872971       97.9   \n",
       "0.192083  1970-01-01 00:00:02+00:00  43.260025 -79.872947       97.9   \n",
       "0.196976  1970-01-01 00:00:03+00:00  43.260007 -79.872892       97.8   \n",
       "0.204683  1970-01-01 00:00:04+00:00  43.259981 -79.872804       97.8   \n",
       "...                             ...        ...        ...        ...   \n",
       "30.390237 1970-01-01 01:34:59+00:00  43.259028 -79.871139       97.3   \n",
       "30.390237 1970-01-01 01:35:00+00:00  43.259028 -79.871139       97.3   \n",
       "30.390237 1970-01-01 01:35:01+00:00  43.259028 -79.871139       97.3   \n",
       "30.390237 1970-01-01 01:35:02+00:00  43.259028 -79.871139       97.3   \n",
       "30.390237 1970-01-01 01:35:03+00:00  43.259028 -79.871139       97.3   \n",
       "\n",
       "           Elevation SavGol  Elevation SavGol Difference  \\\n",
       "Distance                                                   \n",
       "0.187886          97.903306                          NaN   \n",
       "0.190023          97.889292                    -0.014013   \n",
       "0.192083          97.874238                    -0.015054   \n",
       "0.196976          97.858154                    -0.016084   \n",
       "0.204683          97.841052                    -0.017102   \n",
       "...                     ...                          ...   \n",
       "30.390237         96.798501                    -0.119383   \n",
       "30.390237         96.673321                    -0.125181   \n",
       "30.390237         96.542271                    -0.131050   \n",
       "30.390237         96.405281                    -0.136990   \n",
       "30.390237         96.262280                    -0.143001   \n",
       "\n",
       "           Elevation Difference  Time Difference  DistanceChangeInKM  \\\n",
       "Distance                                                               \n",
       "0.187886                    0.0              0.0                 NaN   \n",
       "0.190023                    0.0              1.0            0.002137   \n",
       "0.192083                    0.0              1.0            0.002060   \n",
       "0.196976                    0.1              1.0            0.004893   \n",
       "0.204683                    0.0              1.0            0.007707   \n",
       "...                         ...              ...                 ...   \n",
       "30.390237                   0.0              1.0            0.000000   \n",
       "30.390237                   0.0              1.0            0.000000   \n",
       "30.390237                   0.0              1.0            0.000000   \n",
       "30.390237                   0.0              1.0            0.000000   \n",
       "30.390237                   0.0              1.0            0.000000   \n",
       "\n",
       "           Angle Difference  PaceInMinPerKM  \n",
       "Distance                                     \n",
       "0.187886                NaN        3.483506  \n",
       "0.190023                NaN        3.450015  \n",
       "0.192083                NaN        3.417905  \n",
       "0.196976                NaN        3.387152  \n",
       "0.204683                NaN        3.357733  \n",
       "...                     ...             ...  \n",
       "30.390237               0.0        4.110592  \n",
       "30.390237               0.0        4.156599  \n",
       "30.390237               0.0        4.203835  \n",
       "30.390237               0.0        4.252314  \n",
       "30.390237               NaN        4.302051  \n",
       "\n",
       "[5702 rows x 11 columns]"
      ]
     },
     "execution_count": 8,
     "metadata": {},
     "output_type": "execute_result"
    }
   ],
   "source": [
    "if df[\"time\"].isnull().all() == True:\n",
    "    print(\"no time\")\n",
    "else:\n",
    "    df = XC.AddPace(df)\n",
    "df"
   ]
  },
  {
   "cell_type": "code",
   "execution_count": 9,
   "metadata": {},
   "outputs": [
    {
     "data": {
      "text/plain": [
       "10.74101545531648"
      ]
     },
     "execution_count": 9,
     "metadata": {},
     "output_type": "execute_result"
    }
   ],
   "source": [
    "# df.dropna()\n",
    "import statistics\n",
    "statistics.stdev(df[\"Elevation\"].dropna())"
   ]
  },
  {
   "cell_type": "code",
   "execution_count": 10,
   "metadata": {},
   "outputs": [
    {
     "data": {
      "text/html": [
       "<div>\n",
       "<style scoped>\n",
       "    .dataframe tbody tr th:only-of-type {\n",
       "        vertical-align: middle;\n",
       "    }\n",
       "\n",
       "    .dataframe tbody tr th {\n",
       "        vertical-align: top;\n",
       "    }\n",
       "\n",
       "    .dataframe thead th {\n",
       "        text-align: right;\n",
       "    }\n",
       "</style>\n",
       "<table border=\"1\" class=\"dataframe\">\n",
       "  <thead>\n",
       "    <tr style=\"text-align: right;\">\n",
       "      <th></th>\n",
       "      <th>Course</th>\n",
       "      <th>Turn Stdev</th>\n",
       "      <th>Total Degrees Turned</th>\n",
       "      <th>Perimeters/Total Distance</th>\n",
       "      <th>Course Area (m^2)</th>\n",
       "      <th>Number of Hairpin Turns</th>\n",
       "      <th>Hill Stdev</th>\n",
       "      <th>Tallest Hill (m)</th>\n",
       "      <th>Length of tallest hill (m)</th>\n",
       "      <th>Number of Hills</th>\n",
       "      <th>Total Elevation Gain (m)</th>\n",
       "      <th>Total Elevation Gain Unfiltered (m)</th>\n",
       "      <th>Start Lat</th>\n",
       "      <th>Start Lon</th>\n",
       "      <th>Course Ave. GAP - Strava</th>\n",
       "      <th>Course Ave. GAP - Minetti</th>\n",
       "    </tr>\n",
       "  </thead>\n",
       "  <tbody>\n",
       "    <tr>\n",
       "      <th>0</th>\n",
       "      <td>strava__2346911231</td>\n",
       "      <td>17.042252</td>\n",
       "      <td>47226.9515</td>\n",
       "      <td>30386.074594</td>\n",
       "      <td>3.645288e+07</td>\n",
       "      <td>36</td>\n",
       "      <td>10.741015</td>\n",
       "      <td>35.1</td>\n",
       "      <td>2.65112</td>\n",
       "      <td>13</td>\n",
       "      <td>251.6</td>\n",
       "      <td>251.6</td>\n",
       "      <td>43.260037</td>\n",
       "      <td>-79.872996</td>\n",
       "      <td>1.068554</td>\n",
       "      <td>1.152441</td>\n",
       "    </tr>\n",
       "  </tbody>\n",
       "</table>\n",
       "</div>"
      ],
      "text/plain": [
       "               Course  Turn Stdev  Total Degrees Turned  \\\n",
       "0  strava__2346911231   17.042252            47226.9515   \n",
       "\n",
       "   Perimeters/Total Distance  Course Area (m^2)  Number of Hairpin Turns  \\\n",
       "0               30386.074594       3.645288e+07                       36   \n",
       "\n",
       "   Hill Stdev  Tallest Hill (m)  Length of tallest hill (m)  Number of Hills  \\\n",
       "0   10.741015              35.1                     2.65112               13   \n",
       "\n",
       "   Total Elevation Gain (m)  Total Elevation Gain Unfiltered (m)  Start Lat  \\\n",
       "0                     251.6                                251.6  43.260037   \n",
       "\n",
       "   Start Lon  Course Ave. GAP - Strava  Course Ave. GAP - Minetti  \n",
       "0 -79.872996                  1.068554                   1.152441  "
      ]
     },
     "execution_count": 10,
     "metadata": {},
     "output_type": "execute_result"
    }
   ],
   "source": [
    "CourseInformationDF"
   ]
  },
  {
   "cell_type": "code",
   "execution_count": 11,
   "metadata": {},
   "outputs": [
    {
     "data": {
      "text/plain": [
       "<AxesSubplot:xlabel='Distance'>"
      ]
     },
     "execution_count": 11,
     "metadata": {},
     "output_type": "execute_result"
    },
    {
     "data": {
      "image/png": "[encoded data removed]",
      "text/plain": [
       "<Figure size 1440x360 with 1 Axes>"
      ]
     },
     "metadata": {
      "needs_background": "light"
     },
     "output_type": "display_data"
    }
   ],
   "source": [
    "df['Elevation'].plot(figsize=(20,5))"
   ]
  },
  {
   "cell_type": "code",
   "execution_count": 12,
   "metadata": {},
   "outputs": [
    {
     "data": {
      "image/png": "[encoded data removed]",
      "text/plain": [
       "<Figure size 1440x360 with 1 Axes>"
      ]
     },
     "metadata": {
      "needs_background": "light"
     },
     "output_type": "display_data"
    }
   ],
   "source": [
    "def PlotElevationProfile(df):\n",
    "    fig = plt.figure(figsize=(20,5))\n",
    "    plt.fill_between(x=df.index, y1=0, y2=df['Elevation'])\n",
    "    ymin = 60\n",
    "    ymax = 120\n",
    "    plt.ylim(ymin,ymax)\n",
    "    plt.xlim(0,31)\n",
    "    plt.xlabel('Distance (km)')\n",
    "    plt.ylabel('Elevation (m)')\n",
    "    plt.vlines(x=[10,15,20], ymin=ymin, ymax=ymax, colors='k', linestyles='dashed')\n",
    "    plt.title('Around the Bay Elevation Profile')\n",
    "    plt.show()\n",
    "\n",
    "PlotElevationProfile(df)\n"
   ]
  },
  {
   "cell_type": "code",
   "execution_count": 13,
   "metadata": {},
   "outputs": [],
   "source": [
    "df.to_csv('./Course DataFrames/ATB30km.csv')\n",
    "CourseInformationDF.to_csv('./Course DataFrames/ATB30kmInfo.csv')"
   ]
  },
  {
   "cell_type": "code",
   "execution_count": 14,
   "metadata": {},
   "outputs": [
    {
     "data": {
      "text/html": [
       "<div>\n",
       "<style scoped>\n",
       "    .dataframe tbody tr th:only-of-type {\n",
       "        vertical-align: middle;\n",
       "    }\n",
       "\n",
       "    .dataframe tbody tr th {\n",
       "        vertical-align: top;\n",
       "    }\n",
       "\n",
       "    .dataframe thead th {\n",
       "        text-align: right;\n",
       "    }\n",
       "</style>\n",
       "<table border=\"1\" class=\"dataframe\">\n",
       "  <thead>\n",
       "    <tr style=\"text-align: right;\">\n",
       "      <th></th>\n",
       "      <th>time</th>\n",
       "      <th>Lat</th>\n",
       "      <th>Lon</th>\n",
       "      <th>Elevation</th>\n",
       "      <th>Elevation SavGol</th>\n",
       "      <th>Elevation SavGol Difference</th>\n",
       "      <th>Elevation Difference</th>\n",
       "      <th>Time Difference</th>\n",
       "      <th>DistanceChangeInKM</th>\n",
       "      <th>Angle Difference</th>\n",
       "      <th>PaceInMinPerKM</th>\n",
       "    </tr>\n",
       "    <tr>\n",
       "      <th>Distance</th>\n",
       "      <th></th>\n",
       "      <th></th>\n",
       "      <th></th>\n",
       "      <th></th>\n",
       "      <th></th>\n",
       "      <th></th>\n",
       "      <th></th>\n",
       "      <th></th>\n",
       "      <th></th>\n",
       "      <th></th>\n",
       "      <th></th>\n",
       "    </tr>\n",
       "  </thead>\n",
       "  <tbody>\n",
       "    <tr>\n",
       "      <th>0.187886</th>\n",
       "      <td>1970-01-01 00:00:00+00:00</td>\n",
       "      <td>43.260037</td>\n",
       "      <td>-79.872996</td>\n",
       "      <td>97.9</td>\n",
       "      <td>97.903306</td>\n",
       "      <td>NaN</td>\n",
       "      <td>0.0</td>\n",
       "      <td>0.0</td>\n",
       "      <td>NaN</td>\n",
       "      <td>NaN</td>\n",
       "      <td>3.483506</td>\n",
       "    </tr>\n",
       "    <tr>\n",
       "      <th>0.190023</th>\n",
       "      <td>1970-01-01 00:00:01+00:00</td>\n",
       "      <td>43.260031</td>\n",
       "      <td>-79.872971</td>\n",
       "      <td>97.9</td>\n",
       "      <td>97.889292</td>\n",
       "      <td>-0.014013</td>\n",
       "      <td>0.0</td>\n",
       "      <td>1.0</td>\n",
       "      <td>0.002137</td>\n",
       "      <td>NaN</td>\n",
       "      <td>3.450015</td>\n",
       "    </tr>\n",
       "    <tr>\n",
       "      <th>0.192083</th>\n",
       "      <td>1970-01-01 00:00:02+00:00</td>\n",
       "      <td>43.260025</td>\n",
       "      <td>-79.872947</td>\n",
       "      <td>97.9</td>\n",
       "      <td>97.874238</td>\n",
       "      <td>-0.015054</td>\n",
       "      <td>0.0</td>\n",
       "      <td>1.0</td>\n",
       "      <td>0.002060</td>\n",
       "      <td>NaN</td>\n",
       "      <td>3.417905</td>\n",
       "    </tr>\n",
       "    <tr>\n",
       "      <th>0.196976</th>\n",
       "      <td>1970-01-01 00:00:03+00:00</td>\n",
       "      <td>43.260007</td>\n",
       "      <td>-79.872892</td>\n",
       "      <td>97.8</td>\n",
       "      <td>97.858154</td>\n",
       "      <td>-0.016084</td>\n",
       "      <td>0.1</td>\n",
       "      <td>1.0</td>\n",
       "      <td>0.004893</td>\n",
       "      <td>NaN</td>\n",
       "      <td>3.387152</td>\n",
       "    </tr>\n",
       "    <tr>\n",
       "      <th>0.204683</th>\n",
       "      <td>1970-01-01 00:00:04+00:00</td>\n",
       "      <td>43.259981</td>\n",
       "      <td>-79.872804</td>\n",
       "      <td>97.8</td>\n",
       "      <td>97.841052</td>\n",
       "      <td>-0.017102</td>\n",
       "      <td>0.0</td>\n",
       "      <td>1.0</td>\n",
       "      <td>0.007707</td>\n",
       "      <td>NaN</td>\n",
       "      <td>3.357733</td>\n",
       "    </tr>\n",
       "  </tbody>\n",
       "</table>\n",
       "</div>"
      ],
      "text/plain": [
       "                              time        Lat        Lon  Elevation  \\\n",
       "Distance                                                              \n",
       "0.187886 1970-01-01 00:00:00+00:00  43.260037 -79.872996       97.9   \n",
       "0.190023 1970-01-01 00:00:01+00:00  43.260031 -79.872971       97.9   \n",
       "0.192083 1970-01-01 00:00:02+00:00  43.260025 -79.872947       97.9   \n",
       "0.196976 1970-01-01 00:00:03+00:00  43.260007 -79.872892       97.8   \n",
       "0.204683 1970-01-01 00:00:04+00:00  43.259981 -79.872804       97.8   \n",
       "\n",
       "          Elevation SavGol  Elevation SavGol Difference  Elevation Difference  \\\n",
       "Distance                                                                        \n",
       "0.187886         97.903306                          NaN                   0.0   \n",
       "0.190023         97.889292                    -0.014013                   0.0   \n",
       "0.192083         97.874238                    -0.015054                   0.0   \n",
       "0.196976         97.858154                    -0.016084                   0.1   \n",
       "0.204683         97.841052                    -0.017102                   0.0   \n",
       "\n",
       "          Time Difference  DistanceChangeInKM  Angle Difference  \\\n",
       "Distance                                                          \n",
       "0.187886              0.0                 NaN               NaN   \n",
       "0.190023              1.0            0.002137               NaN   \n",
       "0.192083              1.0            0.002060               NaN   \n",
       "0.196976              1.0            0.004893               NaN   \n",
       "0.204683              1.0            0.007707               NaN   \n",
       "\n",
       "          PaceInMinPerKM  \n",
       "Distance                  \n",
       "0.187886        3.483506  \n",
       "0.190023        3.450015  \n",
       "0.192083        3.417905  \n",
       "0.196976        3.387152  \n",
       "0.204683        3.357733  "
      ]
     },
     "execution_count": 14,
     "metadata": {},
     "output_type": "execute_result"
    }
   ],
   "source": [
    "df.head()"
   ]
  },
  {
   "cell_type": "code",
   "execution_count": 17,
   "metadata": {},
   "outputs": [
    {
     "data": {
      "text/plain": [
       "<AxesSubplot:xlabel='Distance'>"
      ]
     },
     "execution_count": 17,
     "metadata": {},
     "output_type": "execute_result"
    },
    {
     "data": {
      "image/png": "[encoded data removed]",
      "text/plain": [
       "<Figure size 432x288 with 1 Axes>"
      ]
     },
     "metadata": {
      "needs_background": "light"
     },
     "output_type": "display_data"
    }
   ],
   "source": [
    "df['Elevation'].loc[(df.index<9) & (df.index>8)].plot()"
   ]
  },
  {
   "cell_type": "markdown",
   "metadata": {},
   "source": [
    "# need to add gradient"
   ]
  },
  {
   "cell_type": "code",
   "execution_count": null,
   "metadata": {},
   "outputs": [
    {
     "data": {
      "text/plain": [
       "<AxesSubplot:xlabel='Distance'>"
      ]
     },
     "execution_count": 11,
     "metadata": {},
     "output_type": "execute_result"
    },
    {
     "data": {
      "image/png": "[encoded data removed]",
      "text/plain": [
       "<Figure size 432x288 with 1 Axes>"
      ]
     },
     "metadata": {
      "needs_background": "light"
     },
     "output_type": "display_data"
    }
   ],
   "source": [
    "df['Gradient'].loc[(df.index<9) & (df.index>8)].plot()"
   ]
  },
  {
   "cell_type": "markdown",
   "metadata": {},
   "source": [
    "# try/check savgol filter on elevation"
   ]
  },
  {
   "cell_type": "markdown",
   "metadata": {},
   "source": [
    "# now add column for jack daniels and john kellogg"
   ]
  },
  {
   "cell_type": "code",
   "execution_count": null,
   "metadata": {},
   "outputs": [],
   "source": [
    "# df, turn_st_dev, tot_deg_turned, HairpinCount, perim, area =XC.MakeInitialDataframe('ATB', './Courses/ATB/strava__2346911231.gpx')"
   ]
  },
  {
   "cell_type": "code",
   "execution_count": null,
   "metadata": {},
   "outputs": [
    {
     "data": {
      "text/plain": [
       "0.013680208629331525"
      ]
     },
     "execution_count": 17,
     "metadata": {},
     "output_type": "execute_result"
    }
   ],
   "source": [
    "(12/1.609)*(df.index[1]-df.index[0])*df['Gradient'].iloc[1] # jd"
   ]
  },
  {
   "cell_type": "code",
   "execution_count": null,
   "metadata": {},
   "outputs": [
    {
     "ename": "TypeError",
     "evalue": "difference() missing 1 required positional argument: 'other'",
     "output_type": "error",
     "traceback": [
      "\u001b[1;31m---------------------------------------------------------------------------\u001b[0m",
      "\u001b[1;31mTypeError\u001b[0m                                 Traceback (most recent call last)",
      "\u001b[1;32m~\\AppData\\Local\\Temp/ipykernel_14932/477949283.py\u001b[0m in \u001b[0;36m<module>\u001b[1;34m\u001b[0m\n\u001b[1;32m----> 1\u001b[1;33m \u001b[0mdf\u001b[0m\u001b[1;33m.\u001b[0m\u001b[0mindex\u001b[0m\u001b[1;33m.\u001b[0m\u001b[0mdifference\u001b[0m\u001b[1;33m(\u001b[0m\u001b[1;33m)\u001b[0m\u001b[1;33m\u001b[0m\u001b[1;33m\u001b[0m\u001b[0m\n\u001b[0m",
      "\u001b[1;31mTypeError\u001b[0m: difference() missing 1 required positional argument: 'other'"
     ]
    }
   ],
   "source": []
  },
  {
   "cell_type": "code",
   "execution_count": null,
   "metadata": {},
   "outputs": [],
   "source": []
  }
 ],
 "metadata": {
  "interpreter": {
   "hash": "8c5bd37307c949f66302cc4870e6cdc8a52bead90337c8daed13549be4ed1f1d"
  },
  "kernelspec": {
   "display_name": "Python 3.8.8 64-bit ('base': conda)",
   "name": "python3"
  },
  "language_info": {
   "codemirror_mode": {
    "name": "ipython",
    "version": 3
   },
   "file_extension": ".py",
   "mimetype": "text/x-python",
   "name": "python",
   "nbconvert_exporter": "python",
   "pygments_lexer": "ipython3",
   "version": "3.9.7"
  },
  "orig_nbformat": 4
 },
 "nbformat": 4,
 "nbformat_minor": 2
}
